{
 "cells": [
  {
   "cell_type": "markdown",
   "metadata": {},
   "source": [
    "# Speed test\n",
    "\n",
    "In this notebook, we compare the performance of the ```smote_variants``` package with that of the ```imblearn``` package through the three oversamplers implemented in common. Note that the implementations contain different logic to determine the number of samples to be generated. Generally, ```imblearn``` implementations are more flexible, ```smote_variants``` implementations are more simple to use."
   ]
  },
  {
   "cell_type": "code",
   "execution_count": 1,
   "metadata": {},
   "outputs": [],
   "source": [
    "import smote_variants as sv\n",
    "import imbalanced_databases as imbd\n",
    "from imblearn.over_sampling import SMOTE, ADASYN, BorderlineSMOTE, SVMSMOTE\n",
    "\n",
    "import matplotlib.pyplot as plt\n",
    "import time\n",
    "import numpy as np\n",
    "import pandas as pd"
   ]
  },
  {
   "cell_type": "code",
   "execution_count": 2,
   "metadata": {},
   "outputs": [],
   "source": [
    "def measure(sv, imb, datasets):\n",
    "    \"\"\"\n",
    "    The function measuring the runtimes of oversamplers on a set of datasets.\n",
    "    \n",
    "    Args:\n",
    "        sv (list(smote_variants.Oversampling)): the list of oversampling objects from smote_variants\n",
    "        imb (list(imblearn.Oversampling)): the list of oversampling objects from imblearn, imb[i] is the\n",
    "                                            implementation corresponding to sv[i]\n",
    "        datasets (list(function)): dataset loading functions\n",
    "    Returns:\n",
    "        pd.DataFrame: mean oversampling runtimes for the various oversamplers over all datasets\n",
    "    \"\"\"\n",
    "    \n",
    "    results= {}\n",
    "    # iterating through all datasets\n",
    "    for d in datasets:\n",
    "        data= d()\n",
    "        print('processing: %s' % data['name'])\n",
    "        \n",
    "        X= data['data']\n",
    "        y= data['target']\n",
    "        for i, s in enumerate(sv):\n",
    "            # imblearn seems to fail on some edge cases\n",
    "            try:\n",
    "                # measuring oversampling runtime using smote_variants\n",
    "                t0= time.time()\n",
    "                X_samp, y_samp= sv[i].sample(X, y)\n",
    "                res_sv= time.time() - t0\n",
    "                \n",
    "                # measuring oversampling runtime using imblearn\n",
    "                t0= time.time()\n",
    "                X_samp, y_samp= imb[i].fit_resample(X, y)\n",
    "                res_imb= time.time() - t0\n",
    "                \n",
    "                if not s.__class__.__name__ in results:\n",
    "                    results[s.__class__.__name__]= ([], [])\n",
    "                \n",
    "                # appending the results\n",
    "                results[s.__class__.__name__][0].append(res_sv)\n",
    "                results[s.__class__.__name__][1].append(res_imb)\n",
    "            except:\n",
    "                pass\n",
    "    \n",
    "    # preparing the final dataframe\n",
    "    for k in results:\n",
    "        results[k]= [np.mean(results[k][0]), np.mean(results[k][1])]\n",
    "    \n",
    "    results= pd.DataFrame(results).T\n",
    "    results.columns= ['smote_variants', 'imblearn']\n",
    "    \n",
    "    return results\n"
   ]
  },
  {
   "cell_type": "code",
   "execution_count": 3,
   "metadata": {},
   "outputs": [
    {
     "name": "stderr",
     "output_type": "stream",
     "text": [
      "2019-06-11 18:20:07,117:INFO:SMOTE: Running sampling via ('SMOTE', \"{'proportion': 1.0, 'n_neighbors': 5, 'n_jobs': 1}\")\n",
      "2019-06-11 18:20:07,208:INFO:Borderline_SMOTE2: Running sampling via ('Borderline_SMOTE2', \"{'proportion': 1.0, 'n_neighbors': 5, 'k_neighbors': 10, 'n_jobs': 1}\")\n"
     ]
    },
    {
     "name": "stdout",
     "output_type": "stream",
     "text": [
      "processing: ADA\n"
     ]
    },
    {
     "name": "stderr",
     "output_type": "stream",
     "text": [
      "2019-06-11 18:20:07,535:INFO:ADASYN: Running sampling via ('ADASYN', \"{'n_neighbors': 5, 'd_th': 0.9, 'beta': 1.0, 'n_jobs': 1}\")\n",
      "2019-06-11 18:20:07,925:INFO:SMOTE: Running sampling via ('SMOTE', \"{'proportion': 1.0, 'n_neighbors': 5, 'n_jobs': 1}\")\n",
      "2019-06-11 18:20:07,932:INFO:Borderline_SMOTE2: Running sampling via ('Borderline_SMOTE2', \"{'proportion': 1.0, 'n_neighbors': 5, 'k_neighbors': 10, 'n_jobs': 1}\")\n",
      "2019-06-11 18:20:07,942:INFO:ADASYN: Running sampling via ('ADASYN', \"{'n_neighbors': 5, 'd_th': 0.9, 'beta': 1.0, 'n_jobs': 1}\")\n",
      "2019-06-11 18:20:08,068:INFO:SMOTE: Running sampling via ('SMOTE', \"{'proportion': 1.0, 'n_neighbors': 5, 'n_jobs': 1}\")\n",
      "2019-06-11 18:20:08,078:INFO:Borderline_SMOTE2: Running sampling via ('Borderline_SMOTE2', \"{'proportion': 1.0, 'n_neighbors': 5, 'k_neighbors': 10, 'n_jobs': 1}\")\n",
      "2019-06-11 18:20:08,110:INFO:ADASYN: Running sampling via ('ADASYN', \"{'n_neighbors': 5, 'd_th': 0.9, 'beta': 1.0, 'n_jobs': 1}\")\n"
     ]
    },
    {
     "name": "stdout",
     "output_type": "stream",
     "text": [
      "processing: CM1\n",
      "processing: german\n"
     ]
    },
    {
     "name": "stderr",
     "output_type": "stream",
     "text": [
      "2019-06-11 18:20:08,179:INFO:SMOTE: Running sampling via ('SMOTE', \"{'proportion': 1.0, 'n_neighbors': 5, 'n_jobs': 1}\")\n",
      "2019-06-11 18:20:08,183:INFO:Borderline_SMOTE2: Running sampling via ('Borderline_SMOTE2', \"{'proportion': 1.0, 'n_neighbors': 5, 'k_neighbors': 10, 'n_jobs': 1}\")\n",
      "2019-06-11 18:20:08,191:INFO:ADASYN: Running sampling via ('ADASYN', \"{'n_neighbors': 5, 'd_th': 0.9, 'beta': 1.0, 'n_jobs': 1}\")\n"
     ]
    },
    {
     "name": "stdout",
     "output_type": "stream",
     "text": [
      "processing: hepatitis\n"
     ]
    },
    {
     "name": "stderr",
     "output_type": "stream",
     "text": [
      "2019-06-11 18:20:23,710:INFO:SMOTE: Running sampling via ('SMOTE', \"{'proportion': 1.0, 'n_neighbors': 5, 'n_jobs': 1}\")\n"
     ]
    },
    {
     "name": "stdout",
     "output_type": "stream",
     "text": [
      "processing: HIVA\n"
     ]
    },
    {
     "name": "stderr",
     "output_type": "stream",
     "text": [
      "2019-06-11 18:20:25,292:INFO:Borderline_SMOTE2: Running sampling via ('Borderline_SMOTE2', \"{'proportion': 1.0, 'n_neighbors': 5, 'k_neighbors': 10, 'n_jobs': 1}\")\n",
      "2019-06-11 18:20:31,217:INFO:ADASYN: Running sampling via ('ADASYN', \"{'n_neighbors': 5, 'd_th': 0.9, 'beta': 1.0, 'n_jobs': 1}\")\n",
      "2019-06-11 18:20:36,547:INFO:SMOTE: Running sampling via ('SMOTE', \"{'proportion': 1.0, 'n_neighbors': 5, 'n_jobs': 1}\")\n",
      "2019-06-11 18:20:36,574:INFO:Borderline_SMOTE2: Running sampling via ('Borderline_SMOTE2', \"{'proportion': 1.0, 'n_neighbors': 5, 'k_neighbors': 10, 'n_jobs': 1}\")\n",
      "2019-06-11 18:20:36,614:INFO:ADASYN: Running sampling via ('ADASYN', \"{'n_neighbors': 5, 'd_th': 0.9, 'beta': 1.0, 'n_jobs': 1}\")\n"
     ]
    },
    {
     "name": "stdout",
     "output_type": "stream",
     "text": [
      "processing: hypothyroid\n"
     ]
    },
    {
     "name": "stderr",
     "output_type": "stream",
     "text": [
      "2019-06-11 18:20:37,336:INFO:SMOTE: Running sampling via ('SMOTE', \"{'proportion': 1.0, 'n_neighbors': 5, 'n_jobs': 1}\")\n",
      "2019-06-11 18:20:37,350:INFO:Borderline_SMOTE2: Running sampling via ('Borderline_SMOTE2', \"{'proportion': 1.0, 'n_neighbors': 5, 'k_neighbors': 10, 'n_jobs': 1}\")\n",
      "2019-06-11 18:20:37,382:INFO:ADASYN: Running sampling via ('ADASYN', \"{'n_neighbors': 5, 'd_th': 0.9, 'beta': 1.0, 'n_jobs': 1}\")\n"
     ]
    },
    {
     "name": "stdout",
     "output_type": "stream",
     "text": [
      "processing: KC1\n"
     ]
    },
    {
     "name": "stderr",
     "output_type": "stream",
     "text": [
      "2019-06-11 18:20:37,581:INFO:SMOTE: Running sampling via ('SMOTE', \"{'proportion': 1.0, 'n_neighbors': 5, 'n_jobs': 1}\")\n",
      "2019-06-11 18:20:37,590:INFO:Borderline_SMOTE2: Running sampling via ('Borderline_SMOTE2', \"{'proportion': 1.0, 'n_neighbors': 5, 'k_neighbors': 10, 'n_jobs': 1}\")\n",
      "2019-06-11 18:20:37,604:INFO:ADASYN: Running sampling via ('ADASYN', \"{'n_neighbors': 5, 'd_th': 0.9, 'beta': 1.0, 'n_jobs': 1}\")\n"
     ]
    },
    {
     "name": "stdout",
     "output_type": "stream",
     "text": [
      "processing: PC1\n"
     ]
    },
    {
     "name": "stderr",
     "output_type": "stream",
     "text": [
      "2019-06-11 18:20:37,825:INFO:SMOTE: Running sampling via ('SMOTE', \"{'proportion': 1.0, 'n_neighbors': 5, 'n_jobs': 1}\")\n",
      "2019-06-11 18:20:37,897:INFO:Borderline_SMOTE2: Running sampling via ('Borderline_SMOTE2', \"{'proportion': 1.0, 'n_neighbors': 5, 'k_neighbors': 10, 'n_jobs': 1}\")\n"
     ]
    },
    {
     "name": "stdout",
     "output_type": "stream",
     "text": [
      "processing: SATIMAGE\n"
     ]
    },
    {
     "name": "stderr",
     "output_type": "stream",
     "text": [
      "2019-06-11 18:20:38,159:INFO:ADASYN: Running sampling via ('ADASYN', \"{'n_neighbors': 5, 'd_th': 0.9, 'beta': 1.0, 'n_jobs': 1}\")\n",
      "2019-06-11 18:20:38,542:INFO:SMOTE: Running sampling via ('SMOTE', \"{'proportion': 1.0, 'n_neighbors': 5, 'n_jobs': 1}\")\n",
      "2019-06-11 18:20:38,546:INFO:Borderline_SMOTE2: Running sampling via ('Borderline_SMOTE2', \"{'proportion': 1.0, 'n_neighbors': 5, 'k_neighbors': 10, 'n_jobs': 1}\")\n",
      "2019-06-11 18:20:38,555:INFO:ADASYN: Running sampling via ('ADASYN', \"{'n_neighbors': 5, 'd_th': 0.9, 'beta': 1.0, 'n_jobs': 1}\")\n"
     ]
    },
    {
     "name": "stdout",
     "output_type": "stream",
     "text": [
      "processing: SPECT_F\n"
     ]
    },
    {
     "name": "stderr",
     "output_type": "stream",
     "text": [
      "2019-06-11 18:20:39,456:INFO:SMOTE: Running sampling via ('SMOTE', \"{'proportion': 1.0, 'n_neighbors': 5, 'n_jobs': 1}\")\n"
     ]
    },
    {
     "name": "stdout",
     "output_type": "stream",
     "text": [
      "processing: sylva\n"
     ]
    },
    {
     "name": "stderr",
     "output_type": "stream",
     "text": [
      "2019-06-11 18:20:39,938:INFO:Borderline_SMOTE2: Running sampling via ('Borderline_SMOTE2', \"{'proportion': 1.0, 'n_neighbors': 5, 'k_neighbors': 10, 'n_jobs': 1}\")\n",
      "2019-06-11 18:20:47,420:INFO:ADASYN: Running sampling via ('ADASYN', \"{'n_neighbors': 5, 'd_th': 0.9, 'beta': 1.0, 'n_jobs': 1}\")\n",
      "2019-06-11 18:20:54,541:INFO:SMOTE: Running sampling via ('SMOTE', \"{'proportion': 1.0, 'n_neighbors': 5, 'n_jobs': 1}\")\n",
      "2019-06-11 18:20:54,562:INFO:Borderline_SMOTE2: Running sampling via ('Borderline_SMOTE2', \"{'proportion': 1.0, 'n_neighbors': 5, 'k_neighbors': 10, 'n_jobs': 1}\")\n",
      "2019-06-11 18:20:54,587:INFO:ADASYN: Running sampling via ('ADASYN', \"{'n_neighbors': 5, 'd_th': 0.9, 'beta': 1.0, 'n_jobs': 1}\")\n"
     ]
    },
    {
     "name": "stdout",
     "output_type": "stream",
     "text": [
      "processing: abalone_17_vs_7_8_9_10\n"
     ]
    },
    {
     "name": "stderr",
     "output_type": "stream",
     "text": [
      "2019-06-11 18:20:54,826:INFO:SMOTE: Running sampling via ('SMOTE', \"{'proportion': 1.0, 'n_neighbors': 5, 'n_jobs': 1}\")\n",
      "2019-06-11 18:20:54,842:INFO:Borderline_SMOTE2: Running sampling via ('Borderline_SMOTE2', \"{'proportion': 1.0, 'n_neighbors': 5, 'k_neighbors': 10, 'n_jobs': 1}\")\n",
      "2019-06-11 18:20:54,863:INFO:ADASYN: Running sampling via ('ADASYN', \"{'n_neighbors': 5, 'd_th': 0.9, 'beta': 1.0, 'n_jobs': 1}\")\n"
     ]
    },
    {
     "name": "stdout",
     "output_type": "stream",
     "text": [
      "processing: abalone-19_vs_10-11-12-13\n"
     ]
    },
    {
     "name": "stderr",
     "output_type": "stream",
     "text": [
      "2019-06-11 18:20:55,270:INFO:SMOTE: Running sampling via ('SMOTE', \"{'proportion': 1.0, 'n_neighbors': 5, 'n_jobs': 1}\")\n",
      "2019-06-11 18:20:55,285:INFO:Borderline_SMOTE2: Running sampling via ('Borderline_SMOTE2', \"{'proportion': 1.0, 'n_neighbors': 5, 'k_neighbors': 10, 'n_jobs': 1}\")\n",
      "2019-06-11 18:20:55,304:INFO:ADASYN: Running sampling via ('ADASYN', \"{'n_neighbors': 5, 'd_th': 0.9, 'beta': 1.0, 'n_jobs': 1}\")\n",
      "2019-06-11 18:20:55,412:INFO:SMOTE: Running sampling via ('SMOTE', \"{'proportion': 1.0, 'n_neighbors': 5, 'n_jobs': 1}\")\n",
      "2019-06-11 18:20:55,418:INFO:Borderline_SMOTE2: Running sampling via ('Borderline_SMOTE2', \"{'proportion': 1.0, 'n_neighbors': 5, 'k_neighbors': 10, 'n_jobs': 1}\")\n",
      "2019-06-11 18:20:55,426:INFO:ADASYN: Running sampling via ('ADASYN', \"{'n_neighbors': 5, 'd_th': 0.9, 'beta': 1.0, 'n_jobs': 1}\")\n",
      "2019-06-11 18:20:55,469:INFO:SMOTE: Running sampling via ('SMOTE', \"{'proportion': 1.0, 'n_neighbors': 5, 'n_jobs': 1}\")\n"
     ]
    },
    {
     "name": "stdout",
     "output_type": "stream",
     "text": [
      "processing: abalone-20_vs_8-9-10\n",
      "processing: abalone-21_vs_8\n",
      "processing: abalone-3_vs_11\n"
     ]
    },
    {
     "name": "stderr",
     "output_type": "stream",
     "text": [
      "2019-06-11 18:20:55,475:INFO:Borderline_SMOTE2: Running sampling via ('Borderline_SMOTE2', \"{'proportion': 1.0, 'n_neighbors': 5, 'k_neighbors': 10, 'n_jobs': 1}\")\n",
      "2019-06-11 18:20:55,482:INFO:ADASYN: Running sampling via ('ADASYN', \"{'n_neighbors': 5, 'd_th': 0.9, 'beta': 1.0, 'n_jobs': 1}\")\n",
      "2019-06-11 18:20:55,588:INFO:SMOTE: Running sampling via ('SMOTE', \"{'proportion': 1.0, 'n_neighbors': 5, 'n_jobs': 1}\")\n",
      "2019-06-11 18:20:55,618:INFO:Borderline_SMOTE2: Running sampling via ('Borderline_SMOTE2', \"{'proportion': 1.0, 'n_neighbors': 5, 'k_neighbors': 10, 'n_jobs': 1}\")\n",
      "2019-06-11 18:20:55,657:INFO:ADASYN: Running sampling via ('ADASYN', \"{'n_neighbors': 5, 'd_th': 0.9, 'beta': 1.0, 'n_jobs': 1}\")\n"
     ]
    },
    {
     "name": "stdout",
     "output_type": "stream",
     "text": [
      "processing: abalone19\n"
     ]
    },
    {
     "name": "stderr",
     "output_type": "stream",
     "text": [
      "2019-06-11 18:20:55,822:INFO:SMOTE: Running sampling via ('SMOTE', \"{'proportion': 1.0, 'n_neighbors': 5, 'n_jobs': 1}\")\n",
      "2019-06-11 18:20:55,829:INFO:Borderline_SMOTE2: Running sampling via ('Borderline_SMOTE2', \"{'proportion': 1.0, 'n_neighbors': 5, 'k_neighbors': 10, 'n_jobs': 1}\")\n",
      "2019-06-11 18:20:55,840:INFO:ADASYN: Running sampling via ('ADASYN', \"{'n_neighbors': 5, 'd_th': 0.9, 'beta': 1.0, 'n_jobs': 1}\")\n",
      "2019-06-11 18:20:55,938:INFO:SMOTE: Running sampling via ('SMOTE', \"{'proportion': 1.0, 'n_neighbors': 5, 'n_jobs': 1}\")\n",
      "2019-06-11 18:20:55,951:INFO:Borderline_SMOTE2: Running sampling via ('Borderline_SMOTE2', \"{'proportion': 1.0, 'n_neighbors': 5, 'k_neighbors': 10, 'n_jobs': 1}\")\n",
      "2019-06-11 18:20:55,970:INFO:ADASYN: Running sampling via ('ADASYN', \"{'n_neighbors': 5, 'd_th': 0.9, 'beta': 1.0, 'n_jobs': 1}\")\n"
     ]
    },
    {
     "name": "stdout",
     "output_type": "stream",
     "text": [
      "processing: abalone9-18\n",
      "processing: car_good\n"
     ]
    },
    {
     "name": "stderr",
     "output_type": "stream",
     "text": [
      "2019-06-11 18:20:56,052:INFO:SMOTE: Running sampling via ('SMOTE', \"{'proportion': 1.0, 'n_neighbors': 5, 'n_jobs': 1}\")\n",
      "2019-06-11 18:20:56,066:INFO:Borderline_SMOTE2: Running sampling via ('Borderline_SMOTE2', \"{'proportion': 1.0, 'n_neighbors': 5, 'k_neighbors': 10, 'n_jobs': 1}\")\n",
      "2019-06-11 18:20:56,085:INFO:ADASYN: Running sampling via ('ADASYN', \"{'n_neighbors': 5, 'd_th': 0.9, 'beta': 1.0, 'n_jobs': 1}\")\n"
     ]
    },
    {
     "name": "stdout",
     "output_type": "stream",
     "text": [
      "processing: car-vgood\n"
     ]
    },
    {
     "name": "stderr",
     "output_type": "stream",
     "text": [
      "2019-06-11 18:20:56,294:INFO:SMOTE: Running sampling via ('SMOTE', \"{'proportion': 1.0, 'n_neighbors': 5, 'n_jobs': 1}\")\n"
     ]
    },
    {
     "name": "stdout",
     "output_type": "stream",
     "text": [
      "processing: cleveland-0_vs_4\n"
     ]
    },
    {
     "name": "stderr",
     "output_type": "stream",
     "text": [
      "2019-06-11 18:20:56,937:INFO:Borderline_SMOTE2: Running sampling via ('Borderline_SMOTE2', \"{'proportion': 1.0, 'n_neighbors': 5, 'k_neighbors': 10, 'n_jobs': 1}\")\n",
      "2019-06-11 18:20:57,063:INFO:ADASYN: Running sampling via ('ADASYN', \"{'n_neighbors': 5, 'd_th': 0.9, 'beta': 1.0, 'n_jobs': 1}\")\n",
      "2019-06-11 18:20:57,156:INFO:SMOTE: Running sampling via ('SMOTE', \"{'proportion': 1.0, 'n_neighbors': 5, 'n_jobs': 1}\")\n",
      "2019-06-11 18:20:57,162:INFO:Borderline_SMOTE2: Running sampling via ('Borderline_SMOTE2', \"{'proportion': 1.0, 'n_neighbors': 5, 'k_neighbors': 10, 'n_jobs': 1}\")\n",
      "2019-06-11 18:20:57,171:INFO:ADASYN: Running sampling via ('ADASYN', \"{'n_neighbors': 5, 'd_th': 0.9, 'beta': 1.0, 'n_jobs': 1}\")\n",
      "2019-06-11 18:20:57,268:INFO:SMOTE: Running sampling via ('SMOTE', \"{'proportion': 1.0, 'n_neighbors': 5, 'n_jobs': 1}\")\n",
      "2019-06-11 18:20:57,272:INFO:Borderline_SMOTE2: Running sampling via ('Borderline_SMOTE2', \"{'proportion': 1.0, 'n_neighbors': 5, 'k_neighbors': 10, 'n_jobs': 1}\")\n",
      "2019-06-11 18:20:57,277:INFO:ADASYN: Running sampling via ('ADASYN', \"{'n_neighbors': 5, 'd_th': 0.9, 'beta': 1.0, 'n_jobs': 1}\")\n",
      "2019-06-11 18:20:57,325:INFO:SMOTE: Running sampling via ('SMOTE', \"{'proportion': 1.0, 'n_neighbors': 5, 'n_jobs': 1}\")\n",
      "2019-06-11 18:20:57,329:INFO:Borderline_SMOTE2: Running sampling via ('Borderline_SMOTE2', \"{'proportion': 1.0, 'n_neighbors': 5, 'k_neighbors': 10, 'n_jobs': 1}\")\n",
      "2019-06-11 18:20:57,335:INFO:ADASYN: Running sampling via ('ADASYN', \"{'n_neighbors': 5, 'd_th': 0.9, 'beta': 1.0, 'n_jobs': 1}\")\n"
     ]
    },
    {
     "name": "stdout",
     "output_type": "stream",
     "text": [
      "processing: dermatology-6\n",
      "processing: ecoli-0-1-3-7_vs_2-6\n",
      "processing: ecoli-0-1-4-6_vs_5\n"
     ]
    },
    {
     "name": "stderr",
     "output_type": "stream",
     "text": [
      "2019-06-11 18:20:57,415:INFO:SMOTE: Running sampling via ('SMOTE', \"{'proportion': 1.0, 'n_neighbors': 5, 'n_jobs': 1}\")\n",
      "2019-06-11 18:20:57,420:INFO:Borderline_SMOTE2: Running sampling via ('Borderline_SMOTE2', \"{'proportion': 1.0, 'n_neighbors': 5, 'k_neighbors': 10, 'n_jobs': 1}\")\n",
      "2019-06-11 18:20:57,427:INFO:ADASYN: Running sampling via ('ADASYN', \"{'n_neighbors': 5, 'd_th': 0.9, 'beta': 1.0, 'n_jobs': 1}\")\n",
      "2019-06-11 18:20:57,465:INFO:SMOTE: Running sampling via ('SMOTE', \"{'proportion': 1.0, 'n_neighbors': 5, 'n_jobs': 1}\")\n",
      "2019-06-11 18:20:57,470:INFO:Borderline_SMOTE2: Running sampling via ('Borderline_SMOTE2', \"{'proportion': 1.0, 'n_neighbors': 5, 'k_neighbors': 10, 'n_jobs': 1}\")\n",
      "2019-06-11 18:20:57,477:INFO:ADASYN: Running sampling via ('ADASYN', \"{'n_neighbors': 5, 'd_th': 0.9, 'beta': 1.0, 'n_jobs': 1}\")\n"
     ]
    },
    {
     "name": "stdout",
     "output_type": "stream",
     "text": [
      "processing: ecoli-0-1-4-7_vs_2-3-5-6\n",
      "processing: ecoli-0-1-4-7_vs_5-6\n"
     ]
    },
    {
     "name": "stderr",
     "output_type": "stream",
     "text": [
      "2019-06-11 18:20:57,631:INFO:SMOTE: Running sampling via ('SMOTE', \"{'proportion': 1.0, 'n_neighbors': 5, 'n_jobs': 1}\")\n",
      "2019-06-11 18:20:57,635:INFO:Borderline_SMOTE2: Running sampling via ('Borderline_SMOTE2', \"{'proportion': 1.0, 'n_neighbors': 5, 'k_neighbors': 10, 'n_jobs': 1}\")\n",
      "2019-06-11 18:20:57,641:INFO:ADASYN: Running sampling via ('ADASYN', \"{'n_neighbors': 5, 'd_th': 0.9, 'beta': 1.0, 'n_jobs': 1}\")\n",
      "2019-06-11 18:20:57,789:INFO:SMOTE: Running sampling via ('SMOTE', \"{'proportion': 1.0, 'n_neighbors': 5, 'n_jobs': 1}\")\n",
      "2019-06-11 18:20:57,793:INFO:Borderline_SMOTE2: Running sampling via ('Borderline_SMOTE2', \"{'proportion': 1.0, 'n_neighbors': 5, 'k_neighbors': 10, 'n_jobs': 1}\")\n",
      "2019-06-11 18:20:57,798:INFO:ADASYN: Running sampling via ('ADASYN', \"{'n_neighbors': 5, 'd_th': 0.9, 'beta': 1.0, 'n_jobs': 1}\")\n"
     ]
    },
    {
     "name": "stdout",
     "output_type": "stream",
     "text": [
      "processing: ecoli-0-1_vs_2-3-5\n",
      "processing: ecoli-0-1_vs_5\n"
     ]
    },
    {
     "name": "stderr",
     "output_type": "stream",
     "text": [
      "2019-06-11 18:20:57,839:INFO:SMOTE: Running sampling via ('SMOTE', \"{'proportion': 1.0, 'n_neighbors': 5, 'n_jobs': 1}\")\n",
      "2019-06-11 18:20:57,843:INFO:Borderline_SMOTE2: Running sampling via ('Borderline_SMOTE2', \"{'proportion': 1.0, 'n_neighbors': 5, 'k_neighbors': 10, 'n_jobs': 1}\")\n",
      "2019-06-11 18:20:57,848:INFO:ADASYN: Running sampling via ('ADASYN', \"{'n_neighbors': 5, 'd_th': 0.9, 'beta': 1.0, 'n_jobs': 1}\")\n",
      "2019-06-11 18:20:57,867:INFO:SMOTE: Running sampling via ('SMOTE', \"{'proportion': 1.0, 'n_neighbors': 5, 'n_jobs': 1}\")\n",
      "2019-06-11 18:20:57,871:INFO:Borderline_SMOTE2: Running sampling via ('Borderline_SMOTE2', \"{'proportion': 1.0, 'n_neighbors': 5, 'k_neighbors': 10, 'n_jobs': 1}\")\n",
      "2019-06-11 18:20:57,876:INFO:ADASYN: Running sampling via ('ADASYN', \"{'n_neighbors': 5, 'd_th': 0.9, 'beta': 1.0, 'n_jobs': 1}\")\n",
      "2019-06-11 18:20:57,913:INFO:SMOTE: Running sampling via ('SMOTE', \"{'proportion': 1.0, 'n_neighbors': 5, 'n_jobs': 1}\")\n",
      "2019-06-11 18:20:57,916:INFO:Borderline_SMOTE2: Running sampling via ('Borderline_SMOTE2', \"{'proportion': 1.0, 'n_neighbors': 5, 'k_neighbors': 10, 'n_jobs': 1}\")\n",
      "2019-06-11 18:20:57,921:INFO:ADASYN: Running sampling via ('ADASYN', \"{'n_neighbors': 5, 'd_th': 0.9, 'beta': 1.0, 'n_jobs': 1}\")\n",
      "2019-06-11 18:20:57,953:INFO:SMOTE: Running sampling via ('SMOTE', \"{'proportion': 1.0, 'n_neighbors': 5, 'n_jobs': 1}\")\n",
      "2019-06-11 18:20:57,957:INFO:Borderline_SMOTE2: Running sampling via ('Borderline_SMOTE2', \"{'proportion': 1.0, 'n_neighbors': 5, 'k_neighbors': 10, 'n_jobs': 1}\")\n",
      "2019-06-11 18:20:57,962:INFO:ADASYN: Running sampling via ('ADASYN', \"{'n_neighbors': 5, 'd_th': 0.9, 'beta': 1.0, 'n_jobs': 1}\")\n",
      "2019-06-11 18:20:57,994:INFO:SMOTE: Running sampling via ('SMOTE', \"{'proportion': 1.0, 'n_neighbors': 5, 'n_jobs': 1}\")\n",
      "2019-06-11 18:20:57,998:INFO:Borderline_SMOTE2: Running sampling via ('Borderline_SMOTE2', \"{'proportion': 1.0, 'n_neighbors': 5, 'k_neighbors': 10, 'n_jobs': 1}\")\n",
      "2019-06-11 18:20:58,004:INFO:ADASYN: Running sampling via ('ADASYN', \"{'n_neighbors': 5, 'd_th': 0.9, 'beta': 1.0, 'n_jobs': 1}\")\n"
     ]
    },
    {
     "name": "stdout",
     "output_type": "stream",
     "text": [
      "processing: ecoli-0-2-3-4_vs_5\n",
      "processing: ecoli-0-2-6-7_vs_3-5\n",
      "processing: ecoli-0-3-4-6_vs_5\n",
      "processing: ecoli-0-3-4-7_vs_5-6\n",
      "processing: ecoli-0-3-4_vs_5\n"
     ]
    },
    {
     "name": "stderr",
     "output_type": "stream",
     "text": [
      "2019-06-11 18:20:58,399:INFO:SMOTE: Running sampling via ('SMOTE', \"{'proportion': 1.0, 'n_neighbors': 5, 'n_jobs': 1}\")\n",
      "2019-06-11 18:20:58,403:INFO:Borderline_SMOTE2: Running sampling via ('Borderline_SMOTE2', \"{'proportion': 1.0, 'n_neighbors': 5, 'k_neighbors': 10, 'n_jobs': 1}\")\n",
      "2019-06-11 18:20:58,408:INFO:ADASYN: Running sampling via ('ADASYN', \"{'n_neighbors': 5, 'd_th': 0.9, 'beta': 1.0, 'n_jobs': 1}\")\n",
      "2019-06-11 18:20:58,548:INFO:SMOTE: Running sampling via ('SMOTE', \"{'proportion': 1.0, 'n_neighbors': 5, 'n_jobs': 1}\")\n",
      "2019-06-11 18:20:58,552:INFO:Borderline_SMOTE2: Running sampling via ('Borderline_SMOTE2', \"{'proportion': 1.0, 'n_neighbors': 5, 'k_neighbors': 10, 'n_jobs': 1}\")\n",
      "2019-06-11 18:20:58,557:INFO:ADASYN: Running sampling via ('ADASYN', \"{'n_neighbors': 5, 'd_th': 0.9, 'beta': 1.0, 'n_jobs': 1}\")\n"
     ]
    },
    {
     "name": "stdout",
     "output_type": "stream",
     "text": [
      "processing: ecoli-0-4-6_vs_5\n",
      "processing: ecoli-0-6-7_vs_3-5\n"
     ]
    },
    {
     "name": "stderr",
     "output_type": "stream",
     "text": [
      "2019-06-11 18:20:58,731:INFO:SMOTE: Running sampling via ('SMOTE', \"{'proportion': 1.0, 'n_neighbors': 5, 'n_jobs': 1}\")\n",
      "2019-06-11 18:20:58,735:INFO:Borderline_SMOTE2: Running sampling via ('Borderline_SMOTE2', \"{'proportion': 1.0, 'n_neighbors': 5, 'k_neighbors': 10, 'n_jobs': 1}\")\n",
      "2019-06-11 18:20:58,740:INFO:ADASYN: Running sampling via ('ADASYN', \"{'n_neighbors': 5, 'd_th': 0.9, 'beta': 1.0, 'n_jobs': 1}\")\n",
      "2019-06-11 18:20:58,825:INFO:SMOTE: Running sampling via ('SMOTE', \"{'proportion': 1.0, 'n_neighbors': 5, 'n_jobs': 1}\")\n",
      "2019-06-11 18:20:58,829:INFO:Borderline_SMOTE2: Running sampling via ('Borderline_SMOTE2', \"{'proportion': 1.0, 'n_neighbors': 5, 'k_neighbors': 10, 'n_jobs': 1}\")\n",
      "2019-06-11 18:20:58,835:INFO:ADASYN: Running sampling via ('ADASYN', \"{'n_neighbors': 5, 'd_th': 0.9, 'beta': 1.0, 'n_jobs': 1}\")\n"
     ]
    },
    {
     "name": "stdout",
     "output_type": "stream",
     "text": [
      "processing: ecoli-0-6-7_vs_5\n",
      "processing: ecoli4\n"
     ]
    },
    {
     "name": "stderr",
     "output_type": "stream",
     "text": [
      "2019-06-11 18:20:59,100:INFO:SMOTE: Running sampling via ('SMOTE', \"{'proportion': 1.0, 'n_neighbors': 5, 'n_jobs': 1}\")\n",
      "2019-06-11 18:20:59,109:INFO:Borderline_SMOTE2: Running sampling via ('Borderline_SMOTE2', \"{'proportion': 1.0, 'n_neighbors': 5, 'k_neighbors': 10, 'n_jobs': 1}\")\n",
      "2019-06-11 18:20:59,122:INFO:ADASYN: Running sampling via ('ADASYN', \"{'n_neighbors': 5, 'd_th': 0.9, 'beta': 1.0, 'n_jobs': 1}\")\n",
      "2019-06-11 18:20:59,271:INFO:SMOTE: Running sampling via ('SMOTE', \"{'proportion': 1.0, 'n_neighbors': 5, 'n_jobs': 1}\")\n",
      "2019-06-11 18:20:59,275:INFO:Borderline_SMOTE2: Running sampling via ('Borderline_SMOTE2', \"{'proportion': 1.0, 'n_neighbors': 5, 'k_neighbors': 10, 'n_jobs': 1}\")\n",
      "2019-06-11 18:20:59,280:INFO:ADASYN: Running sampling via ('ADASYN', \"{'n_neighbors': 5, 'd_th': 0.9, 'beta': 1.0, 'n_jobs': 1}\")\n"
     ]
    },
    {
     "name": "stdout",
     "output_type": "stream",
     "text": [
      "processing: flare-F\n",
      "processing: glass-0-1-4-6_vs_2\n"
     ]
    },
    {
     "name": "stderr",
     "output_type": "stream",
     "text": [
      "2019-06-11 18:20:59,321:INFO:SMOTE: Running sampling via ('SMOTE', \"{'proportion': 1.0, 'n_neighbors': 5, 'n_jobs': 1}\")\n",
      "2019-06-11 18:20:59,325:INFO:Borderline_SMOTE2: Running sampling via ('Borderline_SMOTE2', \"{'proportion': 1.0, 'n_neighbors': 5, 'k_neighbors': 10, 'n_jobs': 1}\")\n",
      "2019-06-11 18:20:59,330:INFO:ADASYN: Running sampling via ('ADASYN', \"{'n_neighbors': 5, 'd_th': 0.9, 'beta': 1.0, 'n_jobs': 1}\")\n",
      "2019-06-11 18:20:59,371:INFO:SMOTE: Running sampling via ('SMOTE', \"{'proportion': 1.0, 'n_neighbors': 5, 'n_jobs': 1}\")\n",
      "2019-06-11 18:20:59,374:INFO:Borderline_SMOTE2: Running sampling via ('Borderline_SMOTE2', \"{'proportion': 1.0, 'n_neighbors': 5, 'k_neighbors': 10, 'n_jobs': 1}\")\n",
      "2019-06-11 18:20:59,380:INFO:ADASYN: Running sampling via ('ADASYN', \"{'n_neighbors': 5, 'd_th': 0.9, 'beta': 1.0, 'n_jobs': 1}\")\n",
      "2019-06-11 18:20:59,417:INFO:SMOTE: Running sampling via ('SMOTE', \"{'proportion': 1.0, 'n_neighbors': 5, 'n_jobs': 1}\")\n",
      "2019-06-11 18:20:59,420:INFO:Borderline_SMOTE2: Running sampling via ('Borderline_SMOTE2', \"{'proportion': 1.0, 'n_neighbors': 5, 'k_neighbors': 10, 'n_jobs': 1}\")\n",
      "2019-06-11 18:20:59,425:INFO:ADASYN: Running sampling via ('ADASYN', \"{'n_neighbors': 5, 'd_th': 0.9, 'beta': 1.0, 'n_jobs': 1}\")\n",
      "2019-06-11 18:20:59,475:INFO:SMOTE: Running sampling via ('SMOTE', \"{'proportion': 1.0, 'n_neighbors': 5, 'n_jobs': 1}\")\n",
      "2019-06-11 18:20:59,478:INFO:Borderline_SMOTE2: Running sampling via ('Borderline_SMOTE2', \"{'proportion': 1.0, 'n_neighbors': 5, 'k_neighbors': 10, 'n_jobs': 1}\")\n",
      "2019-06-11 18:20:59,482:INFO:ADASYN: Running sampling via ('ADASYN', \"{'n_neighbors': 5, 'd_th': 0.9, 'beta': 1.0, 'n_jobs': 1}\")\n"
     ]
    },
    {
     "name": "stdout",
     "output_type": "stream",
     "text": [
      "processing: glass-0-1-5_vs_2\n",
      "processing: glass-0-1-6_vs_2\n",
      "processing: glass-0-1-6_vs_5\n",
      "processing: glass-0-4_vs_5\n"
     ]
    },
    {
     "name": "stderr",
     "output_type": "stream",
     "text": [
      "2019-06-11 18:20:59,523:INFO:SMOTE: Running sampling via ('SMOTE', \"{'proportion': 1.0, 'n_neighbors': 5, 'n_jobs': 1}\")\n",
      "2019-06-11 18:20:59,526:INFO:Borderline_SMOTE2: Running sampling via ('Borderline_SMOTE2', \"{'proportion': 1.0, 'n_neighbors': 5, 'k_neighbors': 10, 'n_jobs': 1}\")\n",
      "2019-06-11 18:20:59,530:INFO:ADASYN: Running sampling via ('ADASYN', \"{'n_neighbors': 5, 'd_th': 0.9, 'beta': 1.0, 'n_jobs': 1}\")\n",
      "2019-06-11 18:20:59,563:INFO:SMOTE: Running sampling via ('SMOTE', \"{'proportion': 1.0, 'n_neighbors': 5, 'n_jobs': 1}\")\n",
      "2019-06-11 18:20:59,567:INFO:Borderline_SMOTE2: Running sampling via ('Borderline_SMOTE2', \"{'proportion': 1.0, 'n_neighbors': 5, 'k_neighbors': 10, 'n_jobs': 1}\")\n",
      "2019-06-11 18:20:59,572:INFO:ADASYN: Running sampling via ('ADASYN', \"{'n_neighbors': 5, 'd_th': 0.9, 'beta': 1.0, 'n_jobs': 1}\")\n"
     ]
    },
    {
     "name": "stdout",
     "output_type": "stream",
     "text": [
      "processing: glass-0-6_vs_5\n",
      "processing: glass2\n"
     ]
    },
    {
     "name": "stderr",
     "output_type": "stream",
     "text": [
      "2019-06-11 18:20:59,725:INFO:SMOTE: Running sampling via ('SMOTE', \"{'proportion': 1.0, 'n_neighbors': 5, 'n_jobs': 1}\")\n",
      "2019-06-11 18:20:59,729:INFO:Borderline_SMOTE2: Running sampling via ('Borderline_SMOTE2', \"{'proportion': 1.0, 'n_neighbors': 5, 'k_neighbors': 10, 'n_jobs': 1}\")\n",
      "2019-06-11 18:20:59,734:INFO:ADASYN: Running sampling via ('ADASYN', \"{'n_neighbors': 5, 'd_th': 0.9, 'beta': 1.0, 'n_jobs': 1}\")\n",
      "2019-06-11 18:20:59,778:INFO:SMOTE: Running sampling via ('SMOTE', \"{'proportion': 1.0, 'n_neighbors': 5, 'n_jobs': 1}\")\n",
      "2019-06-11 18:20:59,782:INFO:Borderline_SMOTE2: Running sampling via ('Borderline_SMOTE2', \"{'proportion': 1.0, 'n_neighbors': 5, 'k_neighbors': 10, 'n_jobs': 1}\")\n",
      "2019-06-11 18:20:59,787:INFO:ADASYN: Running sampling via ('ADASYN', \"{'n_neighbors': 5, 'd_th': 0.9, 'beta': 1.0, 'n_jobs': 1}\")\n"
     ]
    },
    {
     "name": "stdout",
     "output_type": "stream",
     "text": [
      "processing: glass4\n",
      "processing: glass5\n"
     ]
    },
    {
     "name": "stderr",
     "output_type": "stream",
     "text": [
      "2019-06-11 18:20:59,961:INFO:SMOTE: Running sampling via ('SMOTE', \"{'proportion': 1.0, 'n_neighbors': 5, 'n_jobs': 1}\")\n",
      "2019-06-11 18:20:59,979:INFO:Borderline_SMOTE2: Running sampling via ('Borderline_SMOTE2', \"{'proportion': 1.0, 'n_neighbors': 5, 'k_neighbors': 10, 'n_jobs': 1}\")\n",
      "2019-06-11 18:21:00,016:INFO:ADASYN: Running sampling via ('ADASYN', \"{'n_neighbors': 5, 'd_th': 0.9, 'beta': 1.0, 'n_jobs': 1}\")\n"
     ]
    },
    {
     "name": "stdout",
     "output_type": "stream",
     "text": [
      "processing: kddcup-buffer_overflow_vs_back\n"
     ]
    },
    {
     "name": "stderr",
     "output_type": "stream",
     "text": [
      "2019-06-11 18:21:00,255:INFO:SMOTE: Running sampling via ('SMOTE', \"{'proportion': 1.0, 'n_neighbors': 5, 'n_jobs': 1}\")\n",
      "2019-06-11 18:21:00,269:INFO:Borderline_SMOTE2: Running sampling via ('Borderline_SMOTE2', \"{'proportion': 1.0, 'n_neighbors': 5, 'k_neighbors': 10, 'n_jobs': 1}\")\n",
      "2019-06-11 18:21:00,275:INFO:Borderline_SMOTE2: No samples in danger\n",
      "2019-06-11 18:21:00,280:INFO:ADASYN: Running sampling via ('ADASYN', \"{'n_neighbors': 5, 'd_th': 0.9, 'beta': 1.0, 'n_jobs': 1}\")\n"
     ]
    },
    {
     "name": "stdout",
     "output_type": "stream",
     "text": [
      "processing: kddcup-guess_passwd_vs_satan\n"
     ]
    },
    {
     "name": "stderr",
     "output_type": "stream",
     "text": [
      "/home/gykovacs/workspaces/smote_variants/smote_variants/_smote_variants.py:1908: RuntimeWarning: invalid value encountered in true_divide\n",
      "  r= r/sum(r)\n",
      "/home/gykovacs/workspaces/smote_variants/smote_variants/_smote_variants.py:1925: RuntimeWarning: invalid value encountered in less\n",
      "  base_indices= np.random.choice(list(range(len(X_min))), size=int(num_to_sample), p=r)\n",
      "2019-06-11 18:21:00,829:INFO:SMOTE: Running sampling via ('SMOTE', \"{'proportion': 1.0, 'n_neighbors': 5, 'n_jobs': 1}\")\n",
      "2019-06-11 18:21:00,838:INFO:Borderline_SMOTE2: Running sampling via ('Borderline_SMOTE2', \"{'proportion': 1.0, 'n_neighbors': 5, 'k_neighbors': 10, 'n_jobs': 1}\")\n",
      "2019-06-11 18:21:00,842:INFO:Borderline_SMOTE2: No samples in danger\n",
      "2019-06-11 18:21:00,845:INFO:ADASYN: Running sampling via ('ADASYN', \"{'n_neighbors': 5, 'd_th': 0.9, 'beta': 1.0, 'n_jobs': 1}\")\n",
      "/home/gykovacs/workspaces/smote_variants/smote_variants/_smote_variants.py:1908: RuntimeWarning: invalid value encountered in true_divide\n",
      "  r= r/sum(r)\n",
      "/home/gykovacs/workspaces/smote_variants/smote_variants/_smote_variants.py:1925: RuntimeWarning: invalid value encountered in less\n",
      "  base_indices= np.random.choice(list(range(len(X_min))), size=int(num_to_sample), p=r)\n",
      "2019-06-11 18:21:00,989:INFO:SMOTE: Running sampling via ('SMOTE', \"{'proportion': 1.0, 'n_neighbors': 5, 'n_jobs': 1}\")\n",
      "2019-06-11 18:21:01,003:INFO:Borderline_SMOTE2: Running sampling via ('Borderline_SMOTE2', \"{'proportion': 1.0, 'n_neighbors': 5, 'k_neighbors': 10, 'n_jobs': 1}\")\n",
      "2019-06-11 18:21:01,008:INFO:Borderline_SMOTE2: No samples in danger\n",
      "2019-06-11 18:21:01,012:INFO:ADASYN: Running sampling via ('ADASYN', \"{'n_neighbors': 5, 'd_th': 0.9, 'beta': 1.0, 'n_jobs': 1}\")\n"
     ]
    },
    {
     "name": "stdout",
     "output_type": "stream",
     "text": [
      "processing: kddcup-land_vs_portsweep\n",
      "processing: kddcup-land_vs_satan\n"
     ]
    },
    {
     "name": "stderr",
     "output_type": "stream",
     "text": [
      "2019-06-11 18:21:01,162:INFO:SMOTE: Running sampling via ('SMOTE', \"{'proportion': 1.0, 'n_neighbors': 5, 'n_jobs': 1}\")\n",
      "2019-06-11 18:21:01,181:INFO:Borderline_SMOTE2: Running sampling via ('Borderline_SMOTE2', \"{'proportion': 1.0, 'n_neighbors': 5, 'k_neighbors': 10, 'n_jobs': 1}\")\n",
      "2019-06-11 18:21:01,189:INFO:Borderline_SMOTE2: No samples in danger\n",
      "2019-06-11 18:21:01,197:INFO:ADASYN: Running sampling via ('ADASYN', \"{'n_neighbors': 5, 'd_th': 0.9, 'beta': 1.0, 'n_jobs': 1}\")\n"
     ]
    },
    {
     "name": "stdout",
     "output_type": "stream",
     "text": [
      "processing: kddcup-rootkit-imap_vs_back\n"
     ]
    },
    {
     "name": "stderr",
     "output_type": "stream",
     "text": [
      "2019-06-11 18:21:01,493:INFO:SMOTE: Running sampling via ('SMOTE', \"{'proportion': 1.0, 'n_neighbors': 5, 'n_jobs': 1}\")\n",
      "2019-06-11 18:21:01,517:INFO:Borderline_SMOTE2: Running sampling via ('Borderline_SMOTE2', \"{'proportion': 1.0, 'n_neighbors': 5, 'k_neighbors': 10, 'n_jobs': 1}\")\n",
      "2019-06-11 18:21:01,523:INFO:Borderline_SMOTE2: No samples in danger\n",
      "2019-06-11 18:21:01,525:INFO:ADASYN: Running sampling via ('ADASYN', \"{'n_neighbors': 5, 'd_th': 0.9, 'beta': 1.0, 'n_jobs': 1}\")\n",
      "2019-06-11 18:21:01,692:INFO:SMOTE: Running sampling via ('SMOTE', \"{'proportion': 1.0, 'n_neighbors': 5, 'n_jobs': 1}\")\n"
     ]
    },
    {
     "name": "stdout",
     "output_type": "stream",
     "text": [
      "processing: kr-vs-k-one_vs_fifteen\n",
      "processing: kr-vs-k-three_vs_eleven\n"
     ]
    },
    {
     "name": "stderr",
     "output_type": "stream",
     "text": [
      "2019-06-11 18:21:01,715:INFO:Borderline_SMOTE2: Running sampling via ('Borderline_SMOTE2', \"{'proportion': 1.0, 'n_neighbors': 5, 'k_neighbors': 10, 'n_jobs': 1}\")\n",
      "2019-06-11 18:21:01,742:INFO:ADASYN: Running sampling via ('ADASYN', \"{'n_neighbors': 5, 'd_th': 0.9, 'beta': 1.0, 'n_jobs': 1}\")\n",
      "2019-06-11 18:21:01,875:INFO:SMOTE: Running sampling via ('SMOTE', \"{'proportion': 1.0, 'n_neighbors': 5, 'n_jobs': 1}\")\n",
      "2019-06-11 18:21:01,896:INFO:Borderline_SMOTE2: Running sampling via ('Borderline_SMOTE2', \"{'proportion': 1.0, 'n_neighbors': 5, 'k_neighbors': 10, 'n_jobs': 1}\")\n",
      "2019-06-11 18:21:01,924:INFO:ADASYN: Running sampling via ('ADASYN', \"{'n_neighbors': 5, 'd_th': 0.9, 'beta': 1.0, 'n_jobs': 1}\")\n",
      "2019-06-11 18:21:01,988:INFO:SMOTE: Running sampling via ('SMOTE', \"{'proportion': 1.0, 'n_neighbors': 5, 'n_jobs': 1}\")\n",
      "2019-06-11 18:21:02,001:INFO:Borderline_SMOTE2: Running sampling via ('Borderline_SMOTE2', \"{'proportion': 1.0, 'n_neighbors': 5, 'k_neighbors': 10, 'n_jobs': 1}\")\n",
      "2019-06-11 18:21:02,017:INFO:ADASYN: Running sampling via ('ADASYN', \"{'n_neighbors': 5, 'd_th': 0.9, 'beta': 1.0, 'n_jobs': 1}\")\n"
     ]
    },
    {
     "name": "stdout",
     "output_type": "stream",
     "text": [
      "processing: kr-vs-k-zero-one_vs_draw\n",
      "processing: kr-vs-k-zero_vs_eight\n"
     ]
    },
    {
     "name": "stderr",
     "output_type": "stream",
     "text": [
      "2019-06-11 18:21:02,202:INFO:SMOTE: Running sampling via ('SMOTE', \"{'proportion': 1.0, 'n_neighbors': 5, 'n_jobs': 1}\")\n",
      "2019-06-11 18:21:02,220:INFO:Borderline_SMOTE2: Running sampling via ('Borderline_SMOTE2', \"{'proportion': 1.0, 'n_neighbors': 5, 'k_neighbors': 10, 'n_jobs': 1}\")\n",
      "2019-06-11 18:21:02,240:INFO:ADASYN: Running sampling via ('ADASYN', \"{'n_neighbors': 5, 'd_th': 0.9, 'beta': 1.0, 'n_jobs': 1}\")\n",
      "2019-06-11 18:21:02,387:INFO:SMOTE: Running sampling via ('SMOTE', \"{'proportion': 1.0, 'n_neighbors': 5, 'n_jobs': 1}\")\n",
      "2019-06-11 18:21:02,392:INFO:Borderline_SMOTE2: Running sampling via ('Borderline_SMOTE2', \"{'proportion': 1.0, 'n_neighbors': 5, 'k_neighbors': 10, 'n_jobs': 1}\")\n",
      "2019-06-11 18:21:02,400:INFO:ADASYN: Running sampling via ('ADASYN', \"{'n_neighbors': 5, 'd_th': 0.9, 'beta': 1.0, 'n_jobs': 1}\")\n"
     ]
    },
    {
     "name": "stdout",
     "output_type": "stream",
     "text": [
      "processing: kr-vs-k-zero_vs_fifteen\n",
      "processing: led7digit-0-2-4-6-7-8-9_vs_1\n"
     ]
    },
    {
     "name": "stderr",
     "output_type": "stream",
     "text": [
      "2019-06-11 18:21:02,445:INFO:SMOTE: Running sampling via ('SMOTE', \"{'proportion': 1.0, 'n_neighbors': 5, 'n_jobs': 1}\")\n",
      "2019-06-11 18:21:02,448:INFO:Borderline_SMOTE2: Running sampling via ('Borderline_SMOTE2', \"{'proportion': 1.0, 'n_neighbors': 5, 'k_neighbors': 10, 'n_jobs': 1}\")\n",
      "2019-06-11 18:21:02,452:INFO:ADASYN: Running sampling via ('ADASYN', \"{'n_neighbors': 5, 'd_th': 0.9, 'beta': 1.0, 'n_jobs': 1}\")\n",
      "2019-06-11 18:21:02,619:INFO:SMOTE: Running sampling via ('SMOTE', \"{'proportion': 1.0, 'n_neighbors': 5, 'n_jobs': 1}\")\n",
      "2019-06-11 18:21:02,625:INFO:Borderline_SMOTE2: Running sampling via ('Borderline_SMOTE2', \"{'proportion': 1.0, 'n_neighbors': 5, 'k_neighbors': 10, 'n_jobs': 1}\")\n",
      "2019-06-11 18:21:02,633:INFO:ADASYN: Running sampling via ('ADASYN', \"{'n_neighbors': 5, 'd_th': 0.9, 'beta': 1.0, 'n_jobs': 1}\")\n"
     ]
    },
    {
     "name": "stdout",
     "output_type": "stream",
     "text": [
      "processing: lymphography-normal-fibrosis\n",
      "processing: page-blocks-1-3_vs_4\n"
     ]
    },
    {
     "name": "stderr",
     "output_type": "stream",
     "text": [
      "2019-06-11 18:21:02,788:INFO:SMOTE: Running sampling via ('SMOTE', \"{'proportion': 1.0, 'n_neighbors': 5, 'n_jobs': 1}\")\n",
      "2019-06-11 18:21:02,815:INFO:Borderline_SMOTE2: Running sampling via ('Borderline_SMOTE2', \"{'proportion': 1.0, 'n_neighbors': 5, 'k_neighbors': 10, 'n_jobs': 1}\")\n",
      "2019-06-11 18:21:02,843:INFO:ADASYN: Running sampling via ('ADASYN', \"{'n_neighbors': 5, 'd_th': 0.9, 'beta': 1.0, 'n_jobs': 1}\")\n",
      "2019-06-11 18:21:02,929:INFO:SMOTE: Running sampling via ('SMOTE', \"{'proportion': 1.0, 'n_neighbors': 5, 'n_jobs': 1}\")\n",
      "2019-06-11 18:21:02,942:INFO:Borderline_SMOTE2: Running sampling via ('Borderline_SMOTE2', \"{'proportion': 1.0, 'n_neighbors': 5, 'k_neighbors': 10, 'n_jobs': 1}\")\n",
      "2019-06-11 18:21:02,959:INFO:ADASYN: Running sampling via ('ADASYN', \"{'n_neighbors': 5, 'd_th': 0.9, 'beta': 1.0, 'n_jobs': 1}\")\n"
     ]
    },
    {
     "name": "stdout",
     "output_type": "stream",
     "text": [
      "processing: poker-8-9_vs_5\n",
      "processing: poker-8-9_vs_6\n"
     ]
    },
    {
     "name": "stderr",
     "output_type": "stream",
     "text": [
      "2019-06-11 18:21:03,048:INFO:SMOTE: Running sampling via ('SMOTE', \"{'proportion': 1.0, 'n_neighbors': 5, 'n_jobs': 1}\")\n",
      "2019-06-11 18:21:03,061:INFO:Borderline_SMOTE2: Running sampling via ('Borderline_SMOTE2', \"{'proportion': 1.0, 'n_neighbors': 5, 'k_neighbors': 10, 'n_jobs': 1}\")\n",
      "2019-06-11 18:21:03,064:WARNING:Borderline_SMOTE2: The number of minority samples (17) is not enough for sampling\n",
      "2019-06-11 18:21:03,067:INFO:ADASYN: Running sampling via ('ADASYN', \"{'n_neighbors': 5, 'd_th': 0.9, 'beta': 1.0, 'n_jobs': 1}\")\n",
      "2019-06-11 18:21:03,107:INFO:SMOTE: Running sampling via ('SMOTE', \"{'proportion': 1.0, 'n_neighbors': 5, 'n_jobs': 1}\")\n",
      "2019-06-11 18:21:03,111:INFO:Borderline_SMOTE2: Running sampling via ('Borderline_SMOTE2', \"{'proportion': 1.0, 'n_neighbors': 5, 'k_neighbors': 10, 'n_jobs': 1}\")\n",
      "2019-06-11 18:21:03,116:INFO:ADASYN: Running sampling via ('ADASYN', \"{'n_neighbors': 5, 'd_th': 0.9, 'beta': 1.0, 'n_jobs': 1}\")\n"
     ]
    },
    {
     "name": "stdout",
     "output_type": "stream",
     "text": [
      "processing: poker-8_vs_6\n",
      "processing: poker-9_vs_7\n"
     ]
    },
    {
     "name": "stderr",
     "output_type": "stream",
     "text": [
      "2019-06-11 18:21:03,281:INFO:SMOTE: Running sampling via ('SMOTE', \"{'proportion': 1.0, 'n_neighbors': 5, 'n_jobs': 1}\")\n",
      "2019-06-11 18:21:03,306:INFO:Borderline_SMOTE2: Running sampling via ('Borderline_SMOTE2', \"{'proportion': 1.0, 'n_neighbors': 5, 'k_neighbors': 10, 'n_jobs': 1}\")\n",
      "2019-06-11 18:21:03,312:INFO:Borderline_SMOTE2: No samples in danger\n",
      "2019-06-11 18:21:03,316:INFO:ADASYN: Running sampling via ('ADASYN', \"{'n_neighbors': 5, 'd_th': 0.9, 'beta': 1.0, 'n_jobs': 1}\")\n",
      "2019-06-11 18:21:03,407:INFO:SMOTE: Running sampling via ('SMOTE', \"{'proportion': 1.0, 'n_neighbors': 5, 'n_jobs': 1}\")\n",
      "2019-06-11 18:21:03,411:INFO:Borderline_SMOTE2: Running sampling via ('Borderline_SMOTE2', \"{'proportion': 1.0, 'n_neighbors': 5, 'k_neighbors': 10, 'n_jobs': 1}\")\n",
      "2019-06-11 18:21:03,413:INFO:Borderline_SMOTE2: No samples in danger\n",
      "2019-06-11 18:21:03,414:INFO:ADASYN: Running sampling via ('ADASYN', \"{'n_neighbors': 5, 'd_th': 0.9, 'beta': 1.0, 'n_jobs': 1}\")\n",
      "2019-06-11 18:21:03,473:INFO:SMOTE: Running sampling via ('SMOTE', \"{'proportion': 1.0, 'n_neighbors': 5, 'n_jobs': 1}\")\n"
     ]
    },
    {
     "name": "stdout",
     "output_type": "stream",
     "text": [
      "processing: shuttle-2_vs_5\n",
      "processing: shuttle-6_vs_2-3\n",
      "processing: shuttle-c0-vs-c4\n"
     ]
    },
    {
     "name": "stderr",
     "output_type": "stream",
     "text": [
      "2019-06-11 18:21:03,489:INFO:Borderline_SMOTE2: Running sampling via ('Borderline_SMOTE2', \"{'proportion': 1.0, 'n_neighbors': 5, 'k_neighbors': 10, 'n_jobs': 1}\")\n",
      "2019-06-11 18:21:03,502:INFO:Borderline_SMOTE2: No samples in danger\n",
      "2019-06-11 18:21:03,511:INFO:ADASYN: Running sampling via ('ADASYN', \"{'n_neighbors': 5, 'd_th': 0.9, 'beta': 1.0, 'n_jobs': 1}\")\n",
      "2019-06-11 18:21:03,556:INFO:SMOTE: Running sampling via ('SMOTE', \"{'proportion': 1.0, 'n_neighbors': 5, 'n_jobs': 1}\")\n",
      "2019-06-11 18:21:03,559:INFO:Borderline_SMOTE2: Running sampling via ('Borderline_SMOTE2', \"{'proportion': 1.0, 'n_neighbors': 5, 'k_neighbors': 10, 'n_jobs': 1}\")\n",
      "2019-06-11 18:21:03,564:INFO:ADASYN: Running sampling via ('ADASYN', \"{'n_neighbors': 5, 'd_th': 0.9, 'beta': 1.0, 'n_jobs': 1}\")\n",
      "2019-06-11 18:21:03,614:INFO:SMOTE: Running sampling via ('SMOTE', \"{'proportion': 1.0, 'n_neighbors': 5, 'n_jobs': 1}\")\n",
      "2019-06-11 18:21:03,623:INFO:Borderline_SMOTE2: Running sampling via ('Borderline_SMOTE2', \"{'proportion': 1.0, 'n_neighbors': 5, 'k_neighbors': 10, 'n_jobs': 1}\")\n",
      "2019-06-11 18:21:03,636:INFO:ADASYN: Running sampling via ('ADASYN', \"{'n_neighbors': 5, 'd_th': 0.9, 'beta': 1.0, 'n_jobs': 1}\")\n",
      "2019-06-11 18:21:03,697:INFO:SMOTE: Running sampling via ('SMOTE', \"{'proportion': 1.0, 'n_neighbors': 5, 'n_jobs': 1}\")\n",
      "2019-06-11 18:21:03,703:INFO:Borderline_SMOTE2: Running sampling via ('Borderline_SMOTE2', \"{'proportion': 1.0, 'n_neighbors': 5, 'k_neighbors': 10, 'n_jobs': 1}\")\n",
      "2019-06-11 18:21:03,705:WARNING:Borderline_SMOTE2: The number of minority samples (10) is not enough for sampling\n"
     ]
    },
    {
     "name": "stdout",
     "output_type": "stream",
     "text": [
      "processing: shuttle-c2-vs-c4\n",
      "processing: vowel0\n",
      "processing: winequality-red-3_vs_5\n"
     ]
    },
    {
     "name": "stderr",
     "output_type": "stream",
     "text": [
      "2019-06-11 18:21:03,842:INFO:ADASYN: Running sampling via ('ADASYN', \"{'n_neighbors': 5, 'd_th': 0.9, 'beta': 1.0, 'n_jobs': 1}\")\n",
      "2019-06-11 18:21:03,945:INFO:SMOTE: Running sampling via ('SMOTE', \"{'proportion': 1.0, 'n_neighbors': 5, 'n_jobs': 1}\")\n",
      "2019-06-11 18:21:03,958:INFO:Borderline_SMOTE2: Running sampling via ('Borderline_SMOTE2', \"{'proportion': 1.0, 'n_neighbors': 5, 'k_neighbors': 10, 'n_jobs': 1}\")\n",
      "2019-06-11 18:21:03,975:INFO:ADASYN: Running sampling via ('ADASYN', \"{'n_neighbors': 5, 'd_th': 0.9, 'beta': 1.0, 'n_jobs': 1}\")\n",
      "2019-06-11 18:21:04,036:INFO:SMOTE: Running sampling via ('SMOTE', \"{'proportion': 1.0, 'n_neighbors': 5, 'n_jobs': 1}\")\n",
      "2019-06-11 18:21:04,043:INFO:Borderline_SMOTE2: Running sampling via ('Borderline_SMOTE2', \"{'proportion': 1.0, 'n_neighbors': 5, 'k_neighbors': 10, 'n_jobs': 1}\")\n",
      "2019-06-11 18:21:04,051:INFO:ADASYN: Running sampling via ('ADASYN', \"{'n_neighbors': 5, 'd_th': 0.9, 'beta': 1.0, 'n_jobs': 1}\")\n"
     ]
    },
    {
     "name": "stdout",
     "output_type": "stream",
     "text": [
      "processing: winequality-red-4\n",
      "processing: winequality-red-8_vs_6\n"
     ]
    },
    {
     "name": "stderr",
     "output_type": "stream",
     "text": [
      "2019-06-11 18:21:04,223:INFO:SMOTE: Running sampling via ('SMOTE', \"{'proportion': 1.0, 'n_neighbors': 5, 'n_jobs': 1}\")\n",
      "2019-06-11 18:21:04,231:INFO:Borderline_SMOTE2: Running sampling via ('Borderline_SMOTE2', \"{'proportion': 1.0, 'n_neighbors': 5, 'k_neighbors': 10, 'n_jobs': 1}\")\n",
      "2019-06-11 18:21:04,241:INFO:ADASYN: Running sampling via ('ADASYN', \"{'n_neighbors': 5, 'd_th': 0.9, 'beta': 1.0, 'n_jobs': 1}\")\n",
      "2019-06-11 18:21:04,348:INFO:SMOTE: Running sampling via ('SMOTE', \"{'proportion': 1.0, 'n_neighbors': 5, 'n_jobs': 1}\")\n",
      "2019-06-11 18:21:04,361:INFO:Borderline_SMOTE2: Running sampling via ('Borderline_SMOTE2', \"{'proportion': 1.0, 'n_neighbors': 5, 'k_neighbors': 10, 'n_jobs': 1}\")\n",
      "2019-06-11 18:21:04,376:INFO:ADASYN: Running sampling via ('ADASYN', \"{'n_neighbors': 5, 'd_th': 0.9, 'beta': 1.0, 'n_jobs': 1}\")\n"
     ]
    },
    {
     "name": "stdout",
     "output_type": "stream",
     "text": [
      "processing: winequality-red-8_vs_6-7\n",
      "processing: winequality-white-3-9_vs_5\n"
     ]
    },
    {
     "name": "stderr",
     "output_type": "stream",
     "text": [
      "2019-06-11 18:21:04,496:INFO:SMOTE: Running sampling via ('SMOTE', \"{'proportion': 1.0, 'n_neighbors': 5, 'n_jobs': 1}\")\n",
      "2019-06-11 18:21:04,509:INFO:Borderline_SMOTE2: Running sampling via ('Borderline_SMOTE2', \"{'proportion': 1.0, 'n_neighbors': 5, 'k_neighbors': 10, 'n_jobs': 1}\")\n",
      "2019-06-11 18:21:04,519:INFO:ADASYN: Running sampling via ('ADASYN', \"{'n_neighbors': 5, 'd_th': 0.9, 'beta': 1.0, 'n_jobs': 1}\")\n",
      "2019-06-11 18:21:04,648:INFO:SMOTE: Running sampling via ('SMOTE', \"{'proportion': 1.0, 'n_neighbors': 5, 'n_jobs': 1}\")\n",
      "2019-06-11 18:21:04,651:INFO:Borderline_SMOTE2: Running sampling via ('Borderline_SMOTE2', \"{'proportion': 1.0, 'n_neighbors': 5, 'k_neighbors': 10, 'n_jobs': 1}\")\n",
      "2019-06-11 18:21:04,652:WARNING:Borderline_SMOTE2: The number of minority samples (5) is not enough for sampling\n",
      "2019-06-11 18:21:04,654:INFO:ADASYN: Running sampling via ('ADASYN', \"{'n_neighbors': 5, 'd_th': 0.9, 'beta': 1.0, 'n_jobs': 1}\")\n"
     ]
    },
    {
     "name": "stdout",
     "output_type": "stream",
     "text": [
      "processing: winequality-white-3_vs_7\n",
      "processing: winequality-white-9_vs_4\n"
     ]
    },
    {
     "name": "stderr",
     "output_type": "stream",
     "text": [
      "2019-06-11 18:21:04,778:INFO:SMOTE: Running sampling via ('SMOTE', \"{'proportion': 1.0, 'n_neighbors': 5, 'n_jobs': 1}\")\n",
      "2019-06-11 18:21:04,787:INFO:Borderline_SMOTE2: Running sampling via ('Borderline_SMOTE2', \"{'proportion': 1.0, 'n_neighbors': 5, 'k_neighbors': 10, 'n_jobs': 1}\")\n",
      "2019-06-11 18:21:04,804:INFO:ADASYN: Running sampling via ('ADASYN', \"{'n_neighbors': 5, 'd_th': 0.9, 'beta': 1.0, 'n_jobs': 1}\")\n",
      "2019-06-11 18:21:04,850:INFO:SMOTE: Running sampling via ('SMOTE', \"{'proportion': 1.0, 'n_neighbors': 5, 'n_jobs': 1}\")\n",
      "2019-06-11 18:21:04,863:INFO:Borderline_SMOTE2: Running sampling via ('Borderline_SMOTE2', \"{'proportion': 1.0, 'n_neighbors': 5, 'k_neighbors': 10, 'n_jobs': 1}\")\n",
      "2019-06-11 18:21:04,885:INFO:ADASYN: Running sampling via ('ADASYN', \"{'n_neighbors': 5, 'd_th': 0.9, 'beta': 1.0, 'n_jobs': 1}\")\n",
      "2019-06-11 18:21:04,925:INFO:SMOTE: Running sampling via ('SMOTE', \"{'proportion': 1.0, 'n_neighbors': 5, 'n_jobs': 1}\")\n",
      "2019-06-11 18:21:04,930:INFO:Borderline_SMOTE2: Running sampling via ('Borderline_SMOTE2', \"{'proportion': 1.0, 'n_neighbors': 5, 'k_neighbors': 10, 'n_jobs': 1}\")\n",
      "2019-06-11 18:21:04,939:INFO:ADASYN: Running sampling via ('ADASYN', \"{'n_neighbors': 5, 'd_th': 0.9, 'beta': 1.0, 'n_jobs': 1}\")\n",
      "2019-06-11 18:21:04,974:INFO:SMOTE: Running sampling via ('SMOTE', \"{'proportion': 1.0, 'n_neighbors': 5, 'n_jobs': 1}\")\n"
     ]
    },
    {
     "name": "stdout",
     "output_type": "stream",
     "text": [
      "processing: yeast-0-2-5-6_vs_3-7-8-9\n",
      "processing: yeast-0-2-5-7-9_vs_3-6-8\n",
      "processing: yeast-0-3-5-9_vs_7-8\n",
      "processing: yeast-0-5-6-7-9_vs_4\n"
     ]
    },
    {
     "name": "stderr",
     "output_type": "stream",
     "text": [
      "2019-06-11 18:21:04,980:INFO:Borderline_SMOTE2: Running sampling via ('Borderline_SMOTE2', \"{'proportion': 1.0, 'n_neighbors': 5, 'k_neighbors': 10, 'n_jobs': 1}\")\n",
      "2019-06-11 18:21:04,990:INFO:ADASYN: Running sampling via ('ADASYN', \"{'n_neighbors': 5, 'd_th': 0.9, 'beta': 1.0, 'n_jobs': 1}\")\n",
      "2019-06-11 18:21:05,112:INFO:SMOTE: Running sampling via ('SMOTE', \"{'proportion': 1.0, 'n_neighbors': 5, 'n_jobs': 1}\")\n",
      "2019-06-11 18:21:05,122:INFO:Borderline_SMOTE2: Running sampling via ('Borderline_SMOTE2', \"{'proportion': 1.0, 'n_neighbors': 5, 'k_neighbors': 10, 'n_jobs': 1}\")\n",
      "2019-06-11 18:21:05,135:INFO:ADASYN: Running sampling via ('ADASYN', \"{'n_neighbors': 5, 'd_th': 0.9, 'beta': 1.0, 'n_jobs': 1}\")\n",
      "2019-06-11 18:21:05,209:INFO:SMOTE: Running sampling via ('SMOTE', \"{'proportion': 1.0, 'n_neighbors': 5, 'n_jobs': 1}\")\n",
      "2019-06-11 18:21:05,216:INFO:Borderline_SMOTE2: Running sampling via ('Borderline_SMOTE2', \"{'proportion': 1.0, 'n_neighbors': 5, 'k_neighbors': 10, 'n_jobs': 1}\")\n",
      "2019-06-11 18:21:05,226:INFO:ADASYN: Running sampling via ('ADASYN', \"{'n_neighbors': 5, 'd_th': 0.9, 'beta': 1.0, 'n_jobs': 1}\")\n"
     ]
    },
    {
     "name": "stdout",
     "output_type": "stream",
     "text": [
      "processing: yeast-1-2-8-9_vs_7\n",
      "processing: yeast-1-4-5-8_vs_7\n"
     ]
    },
    {
     "name": "stderr",
     "output_type": "stream",
     "text": [
      "2019-06-11 18:21:05,328:INFO:SMOTE: Running sampling via ('SMOTE', \"{'proportion': 1.0, 'n_neighbors': 5, 'n_jobs': 1}\")\n",
      "2019-06-11 18:21:05,334:INFO:Borderline_SMOTE2: Running sampling via ('Borderline_SMOTE2', \"{'proportion': 1.0, 'n_neighbors': 5, 'k_neighbors': 10, 'n_jobs': 1}\")\n",
      "2019-06-11 18:21:05,342:INFO:ADASYN: Running sampling via ('ADASYN', \"{'n_neighbors': 5, 'd_th': 0.9, 'beta': 1.0, 'n_jobs': 1}\")\n",
      "2019-06-11 18:21:05,377:INFO:SMOTE: Running sampling via ('SMOTE', \"{'proportion': 1.0, 'n_neighbors': 5, 'n_jobs': 1}\")\n",
      "2019-06-11 18:21:05,383:INFO:Borderline_SMOTE2: Running sampling via ('Borderline_SMOTE2', \"{'proportion': 1.0, 'n_neighbors': 5, 'k_neighbors': 10, 'n_jobs': 1}\")\n",
      "2019-06-11 18:21:05,392:INFO:ADASYN: Running sampling via ('ADASYN', \"{'n_neighbors': 5, 'd_th': 0.9, 'beta': 1.0, 'n_jobs': 1}\")\n",
      "2019-06-11 18:21:05,434:INFO:SMOTE: Running sampling via ('SMOTE', \"{'proportion': 1.0, 'n_neighbors': 5, 'n_jobs': 1}\")\n",
      "2019-06-11 18:21:05,441:INFO:Borderline_SMOTE2: Running sampling via ('Borderline_SMOTE2', \"{'proportion': 1.0, 'n_neighbors': 5, 'k_neighbors': 10, 'n_jobs': 1}\")\n",
      "2019-06-11 18:21:05,449:INFO:ADASYN: Running sampling via ('ADASYN', \"{'n_neighbors': 5, 'd_th': 0.9, 'beta': 1.0, 'n_jobs': 1}\")\n"
     ]
    },
    {
     "name": "stdout",
     "output_type": "stream",
     "text": [
      "processing: yeast-1_vs_7\n",
      "processing: yeast-2_vs_4\n",
      "processing: yeast-2_vs_8\n"
     ]
    },
    {
     "name": "stderr",
     "output_type": "stream",
     "text": [
      "2019-06-11 18:21:05,585:INFO:SMOTE: Running sampling via ('SMOTE', \"{'proportion': 1.0, 'n_neighbors': 5, 'n_jobs': 1}\")\n",
      "2019-06-11 18:21:05,597:INFO:Borderline_SMOTE2: Running sampling via ('Borderline_SMOTE2', \"{'proportion': 1.0, 'n_neighbors': 5, 'k_neighbors': 10, 'n_jobs': 1}\")\n",
      "2019-06-11 18:21:05,616:INFO:ADASYN: Running sampling via ('ADASYN', \"{'n_neighbors': 5, 'd_th': 0.9, 'beta': 1.0, 'n_jobs': 1}\")\n"
     ]
    },
    {
     "name": "stdout",
     "output_type": "stream",
     "text": [
      "processing: yeast4\n"
     ]
    },
    {
     "name": "stderr",
     "output_type": "stream",
     "text": [
      "2019-06-11 18:21:05,991:INFO:SMOTE: Running sampling via ('SMOTE', \"{'proportion': 1.0, 'n_neighbors': 5, 'n_jobs': 1}\")\n",
      "2019-06-11 18:21:06,004:INFO:Borderline_SMOTE2: Running sampling via ('Borderline_SMOTE2', \"{'proportion': 1.0, 'n_neighbors': 5, 'k_neighbors': 10, 'n_jobs': 1}\")\n",
      "2019-06-11 18:21:06,023:INFO:ADASYN: Running sampling via ('ADASYN', \"{'n_neighbors': 5, 'd_th': 0.9, 'beta': 1.0, 'n_jobs': 1}\")\n"
     ]
    },
    {
     "name": "stdout",
     "output_type": "stream",
     "text": [
      "processing: yeast5\n"
     ]
    },
    {
     "name": "stderr",
     "output_type": "stream",
     "text": [
      "2019-06-11 18:21:06,276:INFO:SMOTE: Running sampling via ('SMOTE', \"{'proportion': 1.0, 'n_neighbors': 5, 'n_jobs': 1}\")\n",
      "2019-06-11 18:21:06,287:INFO:Borderline_SMOTE2: Running sampling via ('Borderline_SMOTE2', \"{'proportion': 1.0, 'n_neighbors': 5, 'k_neighbors': 10, 'n_jobs': 1}\")\n",
      "2019-06-11 18:21:06,305:INFO:ADASYN: Running sampling via ('ADASYN', \"{'n_neighbors': 5, 'd_th': 0.9, 'beta': 1.0, 'n_jobs': 1}\")\n"
     ]
    },
    {
     "name": "stdout",
     "output_type": "stream",
     "text": [
      "processing: yeast6\n"
     ]
    },
    {
     "name": "stderr",
     "output_type": "stream",
     "text": [
      "2019-06-11 18:21:06,489:INFO:SMOTE: Running sampling via ('SMOTE', \"{'proportion': 1.0, 'n_neighbors': 5, 'n_jobs': 1}\")\n",
      "2019-06-11 18:21:06,491:INFO:Borderline_SMOTE2: Running sampling via ('Borderline_SMOTE2', \"{'proportion': 1.0, 'n_neighbors': 5, 'k_neighbors': 10, 'n_jobs': 1}\")\n",
      "2019-06-11 18:21:06,495:INFO:ADASYN: Running sampling via ('ADASYN', \"{'n_neighbors': 5, 'd_th': 0.9, 'beta': 1.0, 'n_jobs': 1}\")\n"
     ]
    },
    {
     "name": "stdout",
     "output_type": "stream",
     "text": [
      "processing: zoo-3\n"
     ]
    },
    {
     "name": "stderr",
     "output_type": "stream",
     "text": [
      "2019-06-11 18:21:06,725:INFO:SMOTE: Running sampling via ('SMOTE', \"{'proportion': 1.0, 'n_neighbors': 5, 'n_jobs': 1}\")\n",
      "2019-06-11 18:21:06,728:INFO:Borderline_SMOTE2: Running sampling via ('Borderline_SMOTE2', \"{'proportion': 1.0, 'n_neighbors': 5, 'k_neighbors': 10, 'n_jobs': 1}\")\n",
      "2019-06-11 18:21:06,733:INFO:Borderline_SMOTE2: No samples in danger\n",
      "2019-06-11 18:21:06,734:INFO:ADASYN: Running sampling via ('ADASYN', \"{'n_neighbors': 5, 'd_th': 0.9, 'beta': 1.0, 'n_jobs': 1}\")\n"
     ]
    },
    {
     "name": "stdout",
     "output_type": "stream",
     "text": [
      "processing: ecoli-0_vs_1\n"
     ]
    },
    {
     "name": "stderr",
     "output_type": "stream",
     "text": [
      "/home/gykovacs/workspaces/smote_variants/smote_variants/_smote_variants.py:1908: RuntimeWarning: invalid value encountered in true_divide\n",
      "  r= r/sum(r)\n",
      "/home/gykovacs/workspaces/smote_variants/smote_variants/_smote_variants.py:1925: RuntimeWarning: invalid value encountered in less\n",
      "  base_indices= np.random.choice(list(range(len(X_min))), size=int(num_to_sample), p=r)\n",
      "2019-06-11 18:21:07,296:INFO:SMOTE: Running sampling via ('SMOTE', \"{'proportion': 1.0, 'n_neighbors': 5, 'n_jobs': 1}\")\n",
      "2019-06-11 18:21:07,300:INFO:Borderline_SMOTE2: Running sampling via ('Borderline_SMOTE2', \"{'proportion': 1.0, 'n_neighbors': 5, 'k_neighbors': 10, 'n_jobs': 1}\")\n",
      "2019-06-11 18:21:07,308:INFO:ADASYN: Running sampling via ('ADASYN', \"{'n_neighbors': 5, 'd_th': 0.9, 'beta': 1.0, 'n_jobs': 1}\")\n"
     ]
    },
    {
     "name": "stdout",
     "output_type": "stream",
     "text": [
      "processing: ecoli1\n"
     ]
    },
    {
     "name": "stderr",
     "output_type": "stream",
     "text": [
      "2019-06-11 18:21:07,516:INFO:SMOTE: Running sampling via ('SMOTE', \"{'proportion': 1.0, 'n_neighbors': 5, 'n_jobs': 1}\")\n",
      "2019-06-11 18:21:07,522:INFO:Borderline_SMOTE2: Running sampling via ('Borderline_SMOTE2', \"{'proportion': 1.0, 'n_neighbors': 5, 'k_neighbors': 10, 'n_jobs': 1}\")\n",
      "2019-06-11 18:21:07,531:INFO:ADASYN: Running sampling via ('ADASYN', \"{'n_neighbors': 5, 'd_th': 0.9, 'beta': 1.0, 'n_jobs': 1}\")\n"
     ]
    },
    {
     "name": "stdout",
     "output_type": "stream",
     "text": [
      "processing: ecoli2\n"
     ]
    },
    {
     "name": "stderr",
     "output_type": "stream",
     "text": [
      "2019-06-11 18:21:07,809:INFO:SMOTE: Running sampling via ('SMOTE', \"{'proportion': 1.0, 'n_neighbors': 5, 'n_jobs': 1}\")\n",
      "2019-06-11 18:21:07,814:INFO:Borderline_SMOTE2: Running sampling via ('Borderline_SMOTE2', \"{'proportion': 1.0, 'n_neighbors': 5, 'k_neighbors': 10, 'n_jobs': 1}\")\n",
      "2019-06-11 18:21:07,820:INFO:ADASYN: Running sampling via ('ADASYN', \"{'n_neighbors': 5, 'd_th': 0.9, 'beta': 1.0, 'n_jobs': 1}\")\n"
     ]
    },
    {
     "name": "stdout",
     "output_type": "stream",
     "text": [
      "processing: ecoli3\n"
     ]
    },
    {
     "name": "stderr",
     "output_type": "stream",
     "text": [
      "2019-06-11 18:21:08,090:INFO:SMOTE: Running sampling via ('SMOTE', \"{'proportion': 1.0, 'n_neighbors': 5, 'n_jobs': 1}\")\n",
      "2019-06-11 18:21:08,094:INFO:Borderline_SMOTE2: Running sampling via ('Borderline_SMOTE2', \"{'proportion': 1.0, 'n_neighbors': 5, 'k_neighbors': 10, 'n_jobs': 1}\")\n",
      "2019-06-11 18:21:08,099:INFO:ADASYN: Running sampling via ('ADASYN', \"{'n_neighbors': 5, 'd_th': 0.9, 'beta': 1.0, 'n_jobs': 1}\")\n"
     ]
    },
    {
     "name": "stdout",
     "output_type": "stream",
     "text": [
      "processing: glass-0-1-2-3_vs_4-5-6\n"
     ]
    },
    {
     "name": "stderr",
     "output_type": "stream",
     "text": [
      "2019-06-11 18:21:08,418:INFO:SMOTE: Running sampling via ('SMOTE', \"{'proportion': 1.0, 'n_neighbors': 5, 'n_jobs': 1}\")\n",
      "2019-06-11 18:21:08,421:INFO:Borderline_SMOTE2: Running sampling via ('Borderline_SMOTE2', \"{'proportion': 1.0, 'n_neighbors': 5, 'k_neighbors': 10, 'n_jobs': 1}\")\n",
      "2019-06-11 18:21:08,427:INFO:ADASYN: Running sampling via ('ADASYN', \"{'n_neighbors': 5, 'd_th': 0.9, 'beta': 1.0, 'n_jobs': 1}\")\n"
     ]
    },
    {
     "name": "stdout",
     "output_type": "stream",
     "text": [
      "processing: glass0\n"
     ]
    },
    {
     "name": "stderr",
     "output_type": "stream",
     "text": [
      "2019-06-11 18:21:08,631:INFO:SMOTE: Running sampling via ('SMOTE', \"{'proportion': 1.0, 'n_neighbors': 5, 'n_jobs': 1}\")\n",
      "2019-06-11 18:21:08,634:INFO:Borderline_SMOTE2: Running sampling via ('Borderline_SMOTE2', \"{'proportion': 1.0, 'n_neighbors': 5, 'k_neighbors': 10, 'n_jobs': 1}\")\n",
      "2019-06-11 18:21:08,640:INFO:ADASYN: Running sampling via ('ADASYN', \"{'n_neighbors': 5, 'd_th': 0.9, 'beta': 1.0, 'n_jobs': 1}\")\n",
      "2019-06-11 18:21:08,792:INFO:SMOTE: Running sampling via ('SMOTE', \"{'proportion': 1.0, 'n_neighbors': 5, 'n_jobs': 1}\")\n",
      "2019-06-11 18:21:08,795:INFO:Borderline_SMOTE2: Running sampling via ('Borderline_SMOTE2', \"{'proportion': 1.0, 'n_neighbors': 5, 'k_neighbors': 10, 'n_jobs': 1}\")\n",
      "2019-06-11 18:21:08,801:INFO:ADASYN: Running sampling via ('ADASYN', \"{'n_neighbors': 5, 'd_th': 0.9, 'beta': 1.0, 'n_jobs': 1}\")\n"
     ]
    },
    {
     "name": "stdout",
     "output_type": "stream",
     "text": [
      "processing: glass1\n",
      "processing: glass6\n"
     ]
    },
    {
     "name": "stderr",
     "output_type": "stream",
     "text": [
      "2019-06-11 18:21:08,877:INFO:SMOTE: Running sampling via ('SMOTE', \"{'proportion': 1.0, 'n_neighbors': 5, 'n_jobs': 1}\")\n",
      "2019-06-11 18:21:08,881:INFO:Borderline_SMOTE2: Running sampling via ('Borderline_SMOTE2', \"{'proportion': 1.0, 'n_neighbors': 5, 'k_neighbors': 10, 'n_jobs': 1}\")\n",
      "2019-06-11 18:21:08,888:INFO:ADASYN: Running sampling via ('ADASYN', \"{'n_neighbors': 5, 'd_th': 0.9, 'beta': 1.0, 'n_jobs': 1}\")\n",
      "2019-06-11 18:21:08,952:INFO:SMOTE: Running sampling via ('SMOTE', \"{'proportion': 1.0, 'n_neighbors': 5, 'n_jobs': 1}\")\n",
      "2019-06-11 18:21:08,954:INFO:Borderline_SMOTE2: Running sampling via ('Borderline_SMOTE2', \"{'proportion': 1.0, 'n_neighbors': 5, 'k_neighbors': 10, 'n_jobs': 1}\")\n",
      "2019-06-11 18:21:08,958:INFO:Borderline_SMOTE2: No samples in danger\n",
      "2019-06-11 18:21:08,959:INFO:ADASYN: Running sampling via ('ADASYN', \"{'n_neighbors': 5, 'd_th': 0.9, 'beta': 1.0, 'n_jobs': 1}\")\n",
      "/home/gykovacs/workspaces/smote_variants/smote_variants/_smote_variants.py:1908: RuntimeWarning: invalid value encountered in true_divide\n",
      "  r= r/sum(r)\n",
      "/home/gykovacs/workspaces/smote_variants/smote_variants/_smote_variants.py:1925: RuntimeWarning: invalid value encountered in less\n",
      "  base_indices= np.random.choice(list(range(len(X_min))), size=int(num_to_sample), p=r)\n"
     ]
    },
    {
     "name": "stdout",
     "output_type": "stream",
     "text": [
      "processing: habarman\n",
      "processing: iris0\n"
     ]
    },
    {
     "name": "stderr",
     "output_type": "stream",
     "text": [
      "2019-06-11 18:21:09,202:INFO:SMOTE: Running sampling via ('SMOTE', \"{'proportion': 1.0, 'n_neighbors': 5, 'n_jobs': 1}\")\n",
      "2019-06-11 18:21:09,206:INFO:Borderline_SMOTE2: Running sampling via ('Borderline_SMOTE2', \"{'proportion': 1.0, 'n_neighbors': 5, 'k_neighbors': 10, 'n_jobs': 1}\")\n",
      "2019-06-11 18:21:09,212:INFO:ADASYN: Running sampling via ('ADASYN', \"{'n_neighbors': 5, 'd_th': 0.9, 'beta': 1.0, 'n_jobs': 1}\")\n",
      "2019-06-11 18:21:09,310:INFO:SMOTE: Running sampling via ('SMOTE', \"{'proportion': 1.0, 'n_neighbors': 5, 'n_jobs': 1}\")\n",
      "2019-06-11 18:21:09,344:INFO:Borderline_SMOTE2: Running sampling via ('Borderline_SMOTE2', \"{'proportion': 1.0, 'n_neighbors': 5, 'k_neighbors': 10, 'n_jobs': 1}\")\n"
     ]
    },
    {
     "name": "stdout",
     "output_type": "stream",
     "text": [
      "processing: new_thyroid1\n",
      "processing: page_blocks0\n"
     ]
    },
    {
     "name": "stderr",
     "output_type": "stream",
     "text": [
      "2019-06-11 18:21:09,410:INFO:ADASYN: Running sampling via ('ADASYN', \"{'n_neighbors': 5, 'd_th': 0.9, 'beta': 1.0, 'n_jobs': 1}\")\n",
      "2019-06-11 18:21:09,589:INFO:SMOTE: Running sampling via ('SMOTE', \"{'proportion': 1.0, 'n_neighbors': 5, 'n_jobs': 1}\")\n",
      "2019-06-11 18:21:09,595:INFO:Borderline_SMOTE2: Running sampling via ('Borderline_SMOTE2', \"{'proportion': 1.0, 'n_neighbors': 5, 'k_neighbors': 10, 'n_jobs': 1}\")\n",
      "2019-06-11 18:21:09,611:INFO:ADASYN: Running sampling via ('ADASYN', \"{'n_neighbors': 5, 'd_th': 0.9, 'beta': 1.0, 'n_jobs': 1}\")\n"
     ]
    },
    {
     "name": "stdout",
     "output_type": "stream",
     "text": [
      "processing: pima\n"
     ]
    },
    {
     "name": "stderr",
     "output_type": "stream",
     "text": [
      "2019-06-11 18:21:09,795:INFO:SMOTE: Running sampling via ('SMOTE', \"{'proportion': 1.0, 'n_neighbors': 5, 'n_jobs': 1}\")\n",
      "2019-06-11 18:21:09,812:INFO:Borderline_SMOTE2: Running sampling via ('Borderline_SMOTE2', \"{'proportion': 1.0, 'n_neighbors': 5, 'k_neighbors': 10, 'n_jobs': 1}\")\n",
      "2019-06-11 18:21:09,860:INFO:ADASYN: Running sampling via ('ADASYN', \"{'n_neighbors': 5, 'd_th': 0.9, 'beta': 1.0, 'n_jobs': 1}\")\n",
      "2019-06-11 18:21:09,938:INFO:SMOTE: Running sampling via ('SMOTE', \"{'proportion': 1.0, 'n_neighbors': 5, 'n_jobs': 1}\")\n",
      "2019-06-11 18:21:09,944:INFO:Borderline_SMOTE2: Running sampling via ('Borderline_SMOTE2', \"{'proportion': 1.0, 'n_neighbors': 5, 'k_neighbors': 10, 'n_jobs': 1}\")\n",
      "2019-06-11 18:21:09,961:INFO:ADASYN: Running sampling via ('ADASYN', \"{'n_neighbors': 5, 'd_th': 0.9, 'beta': 1.0, 'n_jobs': 1}\")\n"
     ]
    },
    {
     "name": "stdout",
     "output_type": "stream",
     "text": [
      "processing: segment0\n",
      "processing: vehicle0\n"
     ]
    },
    {
     "name": "stderr",
     "output_type": "stream",
     "text": [
      "2019-06-11 18:21:10,085:INFO:SMOTE: Running sampling via ('SMOTE', \"{'proportion': 1.0, 'n_neighbors': 5, 'n_jobs': 1}\")\n",
      "2019-06-11 18:21:10,091:INFO:Borderline_SMOTE2: Running sampling via ('Borderline_SMOTE2', \"{'proportion': 1.0, 'n_neighbors': 5, 'k_neighbors': 10, 'n_jobs': 1}\")\n",
      "2019-06-11 18:21:10,108:INFO:ADASYN: Running sampling via ('ADASYN', \"{'n_neighbors': 5, 'd_th': 0.9, 'beta': 1.0, 'n_jobs': 1}\")\n",
      "2019-06-11 18:21:10,275:INFO:SMOTE: Running sampling via ('SMOTE', \"{'proportion': 1.0, 'n_neighbors': 5, 'n_jobs': 1}\")\n",
      "2019-06-11 18:21:10,281:INFO:Borderline_SMOTE2: Running sampling via ('Borderline_SMOTE2', \"{'proportion': 1.0, 'n_neighbors': 5, 'k_neighbors': 10, 'n_jobs': 1}\")\n"
     ]
    },
    {
     "name": "stdout",
     "output_type": "stream",
     "text": [
      "processing: vehicle1\n",
      "processing: vehicle2\n"
     ]
    },
    {
     "name": "stderr",
     "output_type": "stream",
     "text": [
      "2019-06-11 18:21:10,298:INFO:ADASYN: Running sampling via ('ADASYN', \"{'n_neighbors': 5, 'd_th': 0.9, 'beta': 1.0, 'n_jobs': 1}\")\n",
      "2019-06-11 18:21:10,428:INFO:SMOTE: Running sampling via ('SMOTE', \"{'proportion': 1.0, 'n_neighbors': 5, 'n_jobs': 1}\")\n",
      "2019-06-11 18:21:10,435:INFO:Borderline_SMOTE2: Running sampling via ('Borderline_SMOTE2', \"{'proportion': 1.0, 'n_neighbors': 5, 'k_neighbors': 10, 'n_jobs': 1}\")\n",
      "2019-06-11 18:21:10,451:INFO:ADASYN: Running sampling via ('ADASYN', \"{'n_neighbors': 5, 'd_th': 0.9, 'beta': 1.0, 'n_jobs': 1}\")\n"
     ]
    },
    {
     "name": "stdout",
     "output_type": "stream",
     "text": [
      "processing: vehicle3\n"
     ]
    },
    {
     "name": "stderr",
     "output_type": "stream",
     "text": [
      "2019-06-11 18:21:10,747:INFO:SMOTE: Running sampling via ('SMOTE', \"{'proportion': 1.0, 'n_neighbors': 5, 'n_jobs': 1}\")\n",
      "2019-06-11 18:21:10,753:INFO:Borderline_SMOTE2: Running sampling via ('Borderline_SMOTE2', \"{'proportion': 1.0, 'n_neighbors': 5, 'k_neighbors': 10, 'n_jobs': 1}\")\n",
      "2019-06-11 18:21:10,769:INFO:ADASYN: Running sampling via ('ADASYN', \"{'n_neighbors': 5, 'd_th': 0.9, 'beta': 1.0, 'n_jobs': 1}\")\n",
      "2019-06-11 18:21:10,900:INFO:SMOTE: Running sampling via ('SMOTE', \"{'proportion': 1.0, 'n_neighbors': 5, 'n_jobs': 1}\")\n",
      "2019-06-11 18:21:10,912:INFO:Borderline_SMOTE2: Running sampling via ('Borderline_SMOTE2', \"{'proportion': 1.0, 'n_neighbors': 5, 'k_neighbors': 10, 'n_jobs': 1}\")\n"
     ]
    },
    {
     "name": "stdout",
     "output_type": "stream",
     "text": [
      "processing: wisconsin\n",
      "processing: yeast1\n"
     ]
    },
    {
     "name": "stderr",
     "output_type": "stream",
     "text": [
      "2019-06-11 18:21:10,958:INFO:ADASYN: Running sampling via ('ADASYN', \"{'n_neighbors': 5, 'd_th': 0.9, 'beta': 1.0, 'n_jobs': 1}\")\n",
      "2019-06-11 18:21:11,181:INFO:SMOTE: Running sampling via ('SMOTE', \"{'proportion': 1.0, 'n_neighbors': 5, 'n_jobs': 1}\")\n",
      "2019-06-11 18:21:11,192:INFO:Borderline_SMOTE2: Running sampling via ('Borderline_SMOTE2', \"{'proportion': 1.0, 'n_neighbors': 5, 'k_neighbors': 10, 'n_jobs': 1}\")\n",
      "2019-06-11 18:21:11,218:INFO:ADASYN: Running sampling via ('ADASYN', \"{'n_neighbors': 5, 'd_th': 0.9, 'beta': 1.0, 'n_jobs': 1}\")\n"
     ]
    },
    {
     "name": "stdout",
     "output_type": "stream",
     "text": [
      "processing: yeast3\n"
     ]
    }
   ],
   "source": [
    "# Executing the evaluation for the techniques implemented by both smote_variants and imblearn, using the\n",
    "# same parameters, involving 104 datasets\n",
    "\n",
    "sv_techniques= [sv.SMOTE(), sv.Borderline_SMOTE2(k_neighbors=10), sv.ADASYN()]\n",
    "imb_techniques= [SMOTE(), BorderlineSMOTE(), ADASYN()]\n",
    "\n",
    "results= measure(sv_techniques,\n",
    "                 imb_techniques,\n",
    "                 imbd.get_data_loaders())"
   ]
  },
  {
   "cell_type": "code",
   "execution_count": 4,
   "metadata": {},
   "outputs": [
    {
     "name": "stdout",
     "output_type": "stream",
     "text": [
      "                   smote_variants  imblearn\n",
      "SMOTE                    0.025062  0.010141\n",
      "Borderline_SMOTE2        0.089366  0.055173\n",
      "ADASYN                   0.056966  0.058468\n"
     ]
    }
   ],
   "source": [
    "# Printing the results, the unit is 'seconds'\n",
    "\n",
    "print(results)"
   ]
  }
 ],
 "metadata": {
  "kernelspec": {
   "display_name": "Python 3",
   "language": "python",
   "name": "python3"
  },
  "language_info": {
   "codemirror_mode": {
    "name": "ipython",
    "version": 3
   },
   "file_extension": ".py",
   "mimetype": "text/x-python",
   "name": "python",
   "nbconvert_exporter": "python",
   "pygments_lexer": "ipython3",
   "version": "3.6.7"
  }
 },
 "nbformat": 4,
 "nbformat_minor": 2
}
